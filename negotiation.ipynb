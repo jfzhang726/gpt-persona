{
 "cells": [
  {
   "cell_type": "code",
   "execution_count": null,
   "metadata": {},
   "outputs": [],
   "source": [
    "%%cmd\n",
    "pip install --upgrade pip\n",
    "pip install -r requirements.txt "
   ]
  },
  {
   "cell_type": "code",
   "execution_count": null,
   "metadata": {},
   "outputs": [],
   "source": [
    "%jupyter nbextension enable --py widgetsnbextension"
   ]
  },
  {
   "cell_type": "code",
   "execution_count": 11,
   "metadata": {},
   "outputs": [
    {
     "data": {
      "text/plain": [
       "'d:\\\\Documents\\\\work\\\\vscode_workspace\\\\gpt-persona\\\\.venv_persona\\\\Scripts\\\\python.exe'"
      ]
     },
     "metadata": {},
     "output_type": "display_data"
    },
    {
     "data": {
      "text/plain": [
       "'d:\\\\Documents\\\\work\\\\vscode_workspace\\\\gpt-persona\\\\.venv_persona'"
      ]
     },
     "metadata": {},
     "output_type": "display_data"
    }
   ],
   "source": [
    "import sys\n",
    "display(sys.executable)\n",
    "display(sys.prefix)"
   ]
  },
  {
   "cell_type": "code",
   "execution_count": 12,
   "metadata": {},
   "outputs": [],
   "source": [
    "import os\n",
    "import openai\n",
    "\n",
    "openai.api_key = os.getenv(\"OPENAI_API_KEY\")"
   ]
  },
  {
   "cell_type": "code",
   "execution_count": 43,
   "metadata": {},
   "outputs": [],
   "source": [
    "\n",
    "\n",
    "class Scene:\n",
    "    def __init__(self, name: str, common_context: str, agent_contexts: dict = {}):\n",
    "        self.name = name \n",
    "        self.common_context = common_context\n",
    "        self.agent_contexts = agent_contexts\n",
    "\n",
    "    def get_scene_name(self):\n",
    "        return self.name\n",
    "\n",
    "    def add_agent_context(self, agent_id, context):\n",
    "        self.agent_contexts[agent_id] = context \n",
    "\n",
    "    def get_common_context(self):\n",
    "        return self.common_context\n",
    "\n",
    "    def get_agent_context(self, agent_id):\n",
    "        return self.agent_contexts.get(agent_id, None)\n",
    "\n",
    "\n",
    "\n",
    "class Session:\n",
    "    def __init__(self, session_id:str, history:list = []):\n",
    "        self.session_id = session_id\n",
    "        self.history = history\n",
    "    \n",
    "\n",
    "    def insert_talk(self, talk:dict):\n",
    "        self.history.append(talk)\n",
    "    \n",
    "    def get_history(self):\n",
    "        return self.history\n",
    "\n",
    "    def get_formatted_history(self):\n",
    "        text = \"\"\n",
    "        for talk in self.history:\n",
    "            text += f\"{talk['agent_name']}: {talk['text']}\\n\"\n",
    "        return text \n",
    "\n",
    "   \n",
    "\n",
    "class Agent:\n",
    "    def __init__(self, \n",
    "                 agent_id: str,\n",
    "                 agent_name: str,\n",
    "                 description: str,\n",
    "                 long_term_memory: dict={}, \n",
    "                 personality: dict={},\n",
    "                 ):\n",
    "        self.agent_id = agent_id\n",
    "        self.agent_name = agent_name\n",
    "        self.description = description\n",
    "        self.long_term_memory = long_term_memory\n",
    "        self.personality = personality\n",
    "        \n",
    "    \n",
    "    def speak(self, text, session: Session):\n",
    "        session.insert_talk({'agent_name': self.agent_name, \n",
    "                             'text': text\n",
    "                             })\n",
    "\n",
    "    def build_prompt_with_context(self, scene: Scene, session: Session):\n",
    "        system_prompt = {\n",
    "            \"role\": \"system\",\n",
    "            \"content\": f\"\"\"You are a person with name {self.agent_name}. \"\"\"\n",
    "        }\n",
    "        user_prompt = {\n",
    "            \"role\": \"user\",\n",
    "            \"content\": f\"\"\"\n",
    "                Your name is {self.agent_name}. \n",
    "                {self.description}\n",
    "                You are in the scene {scene.get_scene_name()}. \n",
    "                {scene.get_common_context()}\n",
    "                {scene.get_agent_context(self.agent_id)}\n",
    "                Below delimted by three equal signs === is the history of the conversion so far. \n",
    "                ===\n",
    "                {session.get_formatted_history()}\n",
    "                ===\n",
    "                Please generate output with 4 fields in json format.\n",
    "                The 1st field is: what is your reasoning wrt the current situation and the action you plan to take. \n",
    "                The 2nd field is: do you want to finish the conversation? Please answer \"Yes\" or \"No\".\n",
    "                The 3rd field is: if you want to finish the conversation, is an agreement reached or not? Please answer with \"Yes\" or \"No\". If you don't want finish the conversatioin, please answer blank value ''.\n",
    "                The 4th field is: what is your reply to conversation?\n",
    "                An example output is provided below: \n",
    "                {{  \"reasoning\": your thought goes here,\n",
    "                    \"want_to_finish\": \"No\",\n",
    "                    \"agreement\": \"No\",\n",
    "                    \"reply\": your reply goes here \n",
    "                }}\n",
    "            \"\"\"\n",
    "        }\n",
    "        return [system_prompt,\n",
    "                user_prompt]\n"
   ]
  },
  {
   "cell_type": "code",
   "execution_count": 3,
   "metadata": {},
   "outputs": [],
   "source": [
    "#openai.Model.list()"
   ]
  },
  {
   "cell_type": "code",
   "execution_count": 44,
   "metadata": {},
   "outputs": [],
   "source": [
    "agent_sales = Agent(agent_id=\"sales\",\n",
    "                    agent_name=\"Oliver\",\n",
    "                    description=\"You are a sales man at Bing Lee, which is an Australian chain superstores\",\n",
    "                    \n",
    "                    )\n",
    "agent_buyer = Agent(agent_id=\"buyer\",\n",
    "                    agent_name=\"Charlotte\",\n",
    "                    description=\"You are a new university student. You want to buy a fridge for your dorm.\"\n",
    "                    )\n",
    "scene_binglee = Scene(name=\"binglee\",\n",
    "                      common_context=\"It is the fridge section in Bing Lee Rhodes store. Oliver is the saleman, and Charlotte wants to buy a fridge for her dorm in unversity. Charlotte is looking at LG 420L BOTTOM MOUNT FRIDGE price aud 988.\",\n",
    "                      )\n",
    "scene_binglee.add_agent_context(agent_id=agent_sales.agent_id, context=\"You have the authority to give up to 10% discount, and upto AUd 30 discount on delivery fee. Deliver fee is Aud 40  0-10km, aud 60 10-20km. No deliver for more than 20km.\")\n",
    "scene_binglee.add_agent_context(agent_id=agent_buyer.agent_id, context=\"You have budget aud 1000 to buy a fridge. You plan to bargin for a good price, saving money as much as possible.\")\n",
    "session_binglee = Session(session_id=\"bing_lee\",\n",
    "                          history=[{\"agent_name\": \"Oliver\",\n",
    "                                    \"text\": \"Hi, my name is Oliver. How can I help you?\"\n",
    "                                    },\n",
    "                                   {\"agent_name\": \"Charlotte\",\n",
    "                                    \"text\": \"Hi, I am charlootte. I am looking for a fridge for my dorm. This LG 420L Bottom Mount Fridge looks good. Can you give me a discount?\"\n",
    "                                    }\n",
    "                                   ]\n",
    "                          )\n",
    "\n",
    "\n",
    "records = []\n",
    "records.extend(session_binglee.get_history())"
   ]
  },
  {
   "cell_type": "code",
   "execution_count": 45,
   "metadata": {},
   "outputs": [],
   "source": [
    "import pprint\n",
    "def carry_out_one_turn(scene, session, agent):\n",
    "    messages = agent.build_prompt_with_context(\n",
    "        scene=scene,\n",
    "        session=session\n",
    "    )\n",
    "\n",
    "    display(f\"message length: {len(messages[1]['content'])}\")\n",
    "\n",
    "    response = openai.ChatCompletion.create(\n",
    "                model='gpt-3.5-turbo',\n",
    "                messages=messages,\n",
    "                max_tokens=1000,\n",
    "                temperature=0.2\n",
    "            )\n",
    "    reply = response[\"choices\"][0][\"message\"]['content']\n",
    "    reply_json = json.loads(reply)\n",
    "    pprint.pprint(reply_json)\n",
    "    records.append({\"agent_name\": agent.agent_name,\n",
    "                    \"record\": reply_json})\n",
    "\n",
    "    if \"reply\" in reply_json:\n",
    "        session.insert_talk({\"agent_name\":agent.agent_name,\n",
    "                            \"text\": reply_json.get(\"reply\")\n",
    "                            })\n",
    "    return reply_json"
   ]
  },
  {
   "cell_type": "code",
   "execution_count": null,
   "metadata": {},
   "outputs": [],
   "source": []
  },
  {
   "cell_type": "markdown",
   "metadata": {},
   "source": []
  },
  {
   "cell_type": "code",
   "execution_count": 58,
   "metadata": {},
   "outputs": [
    {
     "name": "stdout",
     "output_type": "stream",
     "text": [
      "{'agreement': 'No',\n",
      " 'reply': \"I'm sorry, Charlotte. Based on the discussions with my manager, we \"\n",
      "          'are unable to offer a higher discount or explore other options to '\n",
      "          'bring the price within your budget. I understand your need for a '\n",
      "          'fridge, and I apologize for any inconvenience caused. If you have '\n",
      "          \"any other questions or if there's anything else I can assist you \"\n",
      "          'with, please let me know.',\n",
      " 'want_to_finish': 'Yes'}\n"
     ]
    }
   ],
   "source": [
    "# Salesman talk\n",
    "import json\n",
    "import pprint\n",
    "scene = scene_binglee\n",
    "session = session_binglee\n",
    "\n",
    "agent = agent_sales\n",
    "\n",
    "carry_out_one_turn(scene=scene, session=session, agent=agent)\n"
   ]
  },
  {
   "cell_type": "markdown",
   "metadata": {},
   "source": []
  },
  {
   "cell_type": "code",
   "execution_count": 60,
   "metadata": {},
   "outputs": [
    {
     "name": "stdout",
     "output_type": "stream",
     "text": [
      "{'agreement': 'No',\n",
      " 'reply': 'Oliver, I understand that you may have limitations on the discounts '\n",
      "          'you can offer. However, since my budget is AUD 1000 and the current '\n",
      "          'price of the fridge is still higher than that, I was wondering if '\n",
      "          \"there's any way we can further negotiate the price or explore other \"\n",
      "          'options to bring it within my budget. I really need a fridge for my '\n",
      "          'dorm, and I would love to purchase it from Bing Lee if we can find '\n",
      "          'a mutually agreeable solution.',\n",
      " 'want_to_finish': 'No'}\n"
     ]
    }
   ],
   "source": [
    "# buyer talk\n",
    "import json\n",
    "import pprint\n",
    "scene = scene_binglee\n",
    "session = session_binglee\n",
    "\n",
    "agent = agent_buyer\n",
    "\n",
    "\n",
    "carry_out_one_turn(scene=scene, session=session, agent=agent)"
   ]
  },
  {
   "cell_type": "code",
   "execution_count": 57,
   "metadata": {},
   "outputs": [
    {
     "data": {
      "text/plain": [
       "4732"
      ]
     },
     "execution_count": 57,
     "metadata": {},
     "output_type": "execute_result"
    }
   ],
   "source": []
  },
  {
   "cell_type": "code",
   "execution_count": null,
   "metadata": {},
   "outputs": [],
   "source": []
  },
  {
   "cell_type": "code",
   "execution_count": 46,
   "metadata": {},
   "outputs": [
    {
     "data": {
      "application/vnd.jupyter.widget-view+json": {
       "model_id": "aab6b4d2ad2f47448299daf4825300be",
       "version_major": 2,
       "version_minor": 0
      },
      "text/plain": [
       "Textarea(value='Oliver: Hi, my name is Oliver. How can I help you?\\n\\nCharlotte: Hi, I am charlootte. I am loo…"
      ]
     },
     "metadata": {},
     "output_type": "display_data"
    },
    {
     "data": {
      "application/vnd.jupyter.widget-view+json": {
       "model_id": "90a79c4c35cc4b56852d854199530080",
       "version_major": 2,
       "version_minor": 0
      },
      "text/plain": [
       "Button(description='Send', style=ButtonStyle())"
      ]
     },
     "metadata": {},
     "output_type": "display_data"
    },
    {
     "data": {
      "application/vnd.jupyter.widget-view+json": {
       "model_id": "1822137b78194e608e1a18d30b24d8eb",
       "version_major": 2,
       "version_minor": 0
      },
      "text/plain": [
       "Text(value='', description='Instruction to buyer agent:', layout=Layout(width='500px'), placeholder='Buyer age…"
      ]
     },
     "metadata": {},
     "output_type": "display_data"
    },
    {
     "data": {
      "application/vnd.jupyter.widget-view+json": {
       "model_id": "1ccaa593b2fb49ebb077ec3441103eb5",
       "version_major": 2,
       "version_minor": 0
      },
      "text/plain": [
       "Button(description='Send', style=ButtonStyle())"
      ]
     },
     "metadata": {},
     "output_type": "display_data"
    },
    {
     "data": {
      "application/vnd.jupyter.widget-view+json": {
       "model_id": "bcb52765adeb4e35a8076e777161d006",
       "version_major": 2,
       "version_minor": 0
      },
      "text/plain": [
       "Text(value='', description='Instruction to sales agent:', layout=Layout(width='500px'), placeholder='Sales age…"
      ]
     },
     "metadata": {},
     "output_type": "display_data"
    },
    {
     "data": {
      "application/vnd.jupyter.widget-view+json": {
       "model_id": "54f67b5010fb42a2a204370acb5d00a8",
       "version_major": 2,
       "version_minor": 0
      },
      "text/plain": [
       "Button(description='Send', style=ButtonStyle())"
      ]
     },
     "metadata": {},
     "output_type": "display_data"
    },
    {
     "data": {
      "text/plain": [
       "'message length: 1725'"
      ]
     },
     "metadata": {},
     "output_type": "display_data"
    },
    {
     "name": "stdout",
     "output_type": "stream",
     "text": [
      "{'agreement': '',\n",
      " 'reasoning': 'I want to try and negotiate a better price for the LG 420L '\n",
      "              'Bottom Mount Fridge since it is slightly over my budget. I will '\n",
      "              'ask Oliver if he can offer a discount.',\n",
      " 'reply': \"Hi Oliver, I really like the LG 420L Bottom Mount Fridge, but it's \"\n",
      "          'a bit over my budget. Is there any chance you can offer a discount '\n",
      "          'on the price?',\n",
      " 'want_to_finish': 'No'}\n",
      "{'reasoning': 'I want to try and negotiate a better price for the LG 420L Bottom Mount Fridge since it is slightly over my budget. I will ask Oliver if he can offer a discount.', 'want_to_finish': 'No', 'agreement': '', 'reply': \"Hi Oliver, I really like the LG 420L Bottom Mount Fridge, but it's a bit over my budget. Is there any chance you can offer a discount on the price?\"}\n"
     ]
    },
    {
     "data": {
      "text/plain": [
       "'message length: 1939'"
      ]
     },
     "metadata": {},
     "output_type": "display_data"
    },
    {
     "name": "stdout",
     "output_type": "stream",
     "text": [
      "{'agreement': '',\n",
      " 'reasoning': 'Charlotte is interested in the LG 420L Bottom Mount Fridge but '\n",
      "              'finds it a bit over her budget. As a salesperson, I have the '\n",
      "              'authority to offer discounts. I will try to negotiate a '\n",
      "              'discount on the price to make it more affordable for her.',\n",
      " 'reply': 'Hi Charlotte, I understand that the price is a bit high for you. As '\n",
      "          'a valued customer, I can offer you a 10% discount on the LG 420L '\n",
      "          'Bottom Mount Fridge, bringing the price down to AUD 889.20. '\n",
      "          'Additionally, I can waive the delivery fee of AUD 40 for you. How '\n",
      "          'does that sound?',\n",
      " 'want_to_finish': 'No'}\n",
      "{'reasoning': 'Charlotte is interested in the LG 420L Bottom Mount Fridge but finds it a bit over her budget. As a salesperson, I have the authority to offer discounts. I will try to negotiate a discount on the price to make it more affordable for her.', 'want_to_finish': 'No', 'agreement': '', 'reply': 'Hi Charlotte, I understand that the price is a bit high for you. As a valued customer, I can offer you a 10% discount on the LG 420L Bottom Mount Fridge, bringing the price down to AUD 889.20. Additionally, I can waive the delivery fee of AUD 40 for you. How does that sound?'}\n"
     ]
    },
    {
     "data": {
      "text/plain": [
       "'message length: 2168'"
      ]
     },
     "metadata": {},
     "output_type": "display_data"
    },
    {
     "name": "stdout",
     "output_type": "stream",
     "text": [
      "{'agreement': 'Yes',\n",
      " 'reasoning': 'The salesman has offered me a 10% discount on the LG 420L '\n",
      "              'Bottom Mount Fridge, bringing the price down to AUD 889.20. He '\n",
      "              'has also waived the delivery fee of AUD 40. This is a good '\n",
      "              'offer and it brings the price within my budget. I am satisfied '\n",
      "              'with the discount and I plan to accept the offer.',\n",
      " 'reply': 'Thank you, Oliver. I appreciate your offer. I am happy to accept '\n",
      "          'the 10% discount and the waived delivery fee. I would like to '\n",
      "          'purchase the LG 420L Bottom Mount Fridge for AUD 889.20. How can I '\n",
      "          'proceed with the payment?',\n",
      " 'want_to_finish': 'Yes'}\n",
      "{'reasoning': 'The salesman has offered me a 10% discount on the LG 420L Bottom Mount Fridge, bringing the price down to AUD 889.20. He has also waived the delivery fee of AUD 40. This is a good offer and it brings the price within my budget. I am satisfied with the discount and I plan to accept the offer.', 'want_to_finish': 'Yes', 'agreement': 'Yes', 'reply': 'Thank you, Oliver. I appreciate your offer. I am happy to accept the 10% discount and the waived delivery fee. I would like to purchase the LG 420L Bottom Mount Fridge for AUD 889.20. How can I proceed with the payment?'}\n"
     ]
    }
   ],
   "source": [
    "import ipywidgets as widgets\n",
    "from IPython.display import display\n",
    "import json\n",
    "import pprint\n",
    "scene = scene_binglee\n",
    "session = session_binglee\n",
    "\n",
    "\n",
    "last_talk_agent = agent_sales\n",
    "\n",
    "\n",
    "# 1. Textarea widget to display chat history\n",
    "chat_history = widgets.Textarea(\n",
    "    value=\"\",\n",
    "    placeholder=\"Chat history will appear here...\",\n",
    "    description=\"Chat:\",\n",
    "    disabled=True,\n",
    "    layout=widgets.Layout(width=\"500px\", height=\"300px\")\n",
    ")\n",
    "\n",
    "for talk in session.get_history():\n",
    "    chat_history.value += f\"{talk['agent_name']}: {talk['text']}\\n\\n\" \n",
    "\n",
    "\n",
    "# 2. Button widget to send message\n",
    "send_button = widgets.Button(description=\"Send\")\n",
    "\n",
    "instruct_to_buyer_agent_input = widgets.Text(\n",
    "    value=\"\",\n",
    "    placeholder=\"Buyer agent: Type your instruction...\",\n",
    "    description=\"Instruction to buyer agent:\",\n",
    "    layout=widgets.Layout(width=\"500px\")\n",
    ")\n",
    "\n",
    "instruct_button_1 = widgets.Button(description=\"Send\")\n",
    "\n",
    "instruct_to_sales_agent_input = widgets.Text(\n",
    "    value=\"\",\n",
    "    placeholder=\"Sales agent: Type your instruction...\",\n",
    "    description=\"Instruction to sales agent:\",\n",
    "    layout=widgets.Layout(width=\"500px\")\n",
    ")\n",
    "\n",
    "instruct_button_2 = widgets.Button(description=\"Send\")\n",
    "\n",
    "\n",
    "\n",
    "\n",
    "# 3. Function to handle button click and update chat\n",
    "def on_send_button_click(button):\n",
    "    global last_talk_agent\n",
    "    \n",
    "    if last_talk_agent == agent_sales:\n",
    "        current_talk_agent = agent_buyer\n",
    "    else:\n",
    "        current_talk_agent = agent_sales\n",
    "\n",
    "    reply_json = carry_out_one_turn(scene=scene, session=session, agent=current_talk_agent)\n",
    "    print(reply_json)\n",
    "    reply = reply_json.get(\"reply\", None)\n",
    "    want_to_finish = reply_json.get(\"want_to_finish\", None)\n",
    "    agreement = reply_json.get(\"agreement\", None)\n",
    "    if reply is None:\n",
    "        print(f\"No reply: f{reply_json}\")\n",
    "    else:\n",
    "        # Append OpenAI's response to chat history\n",
    "        chat_history.value += f\"{current_talk_agent.agent_name}: {reply_json['reply']}\\n\\n\"\n",
    "    if want_to_finish is not None and 'yes' in want_to_finish.lower():\n",
    "        chat_history.value += f\"SYSTEM: {current_talk_agent.agent_name} wants to finish conversation.\\n\\n\"\n",
    "        if agreement is not None:\n",
    "            chat_history.value += f\"SYSTEM: agreement is {'' if 'yes' in agreement.lower() else 'not'} reached.\"\n",
    "    last_talk_agent = current_talk_agent\n",
    "\n",
    "    \n",
    "def on_instruct_button_1_click(button):\n",
    "    pass \n",
    "\n",
    "def on_instruct_button_2_click(button):\n",
    "    pass\n",
    "\n",
    "# Set button click event handler\n",
    "send_button.on_click(on_send_button_click)\n",
    "instruct_button_1.on_click(on_instruct_button_1_click)\n",
    "instruct_button_2.on_click(on_instruct_button_2_click)\n",
    "\n",
    "# Display the widgets\n",
    "display(chat_history, send_button, instruct_to_buyer_agent_input, instruct_button_1, instruct_to_sales_agent_input, instruct_button_2)"
   ]
  },
  {
   "cell_type": "code",
   "execution_count": 38,
   "metadata": {},
   "outputs": [],
   "source": [
    "with open(\"./data/binglee_conversation_1.json\", \"w\") as f:\n",
    "    json.dump(records, f, indent=4)"
   ]
  },
  {
   "cell_type": "code",
   "execution_count": null,
   "metadata": {},
   "outputs": [],
   "source": []
  }
 ],
 "metadata": {
  "kernelspec": {
   "display_name": ".venv_persona",
   "language": "python",
   "name": "python3"
  },
  "language_info": {
   "codemirror_mode": {
    "name": "ipython",
    "version": 3
   },
   "file_extension": ".py",
   "mimetype": "text/x-python",
   "name": "python",
   "nbconvert_exporter": "python",
   "pygments_lexer": "ipython3",
   "version": "3.10.10"
  },
  "orig_nbformat": 4
 },
 "nbformat": 4,
 "nbformat_minor": 2
}
