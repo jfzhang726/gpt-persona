{
 "cells": [
  {
   "cell_type": "code",
   "execution_count": null,
   "metadata": {},
   "outputs": [],
   "source": [
    "%%cmd\n",
    "pip install --upgrade pip\n",
    "pip install -r requirements.txt "
   ]
  },
  {
   "cell_type": "code",
   "execution_count": null,
   "metadata": {},
   "outputs": [],
   "source": [
    "%jupyter nbextension enable --py widgetsnbextension"
   ]
  },
  {
   "cell_type": "code",
   "execution_count": 11,
   "metadata": {},
   "outputs": [
    {
     "data": {
      "text/plain": [
       "'d:\\\\Documents\\\\work\\\\vscode_workspace\\\\gpt-persona\\\\.venv_persona\\\\Scripts\\\\python.exe'"
      ]
     },
     "metadata": {},
     "output_type": "display_data"
    },
    {
     "data": {
      "text/plain": [
       "'d:\\\\Documents\\\\work\\\\vscode_workspace\\\\gpt-persona\\\\.venv_persona'"
      ]
     },
     "metadata": {},
     "output_type": "display_data"
    }
   ],
   "source": [
    "import sys\n",
    "display(sys.executable)\n",
    "display(sys.prefix)"
   ]
  },
  {
   "cell_type": "code",
   "execution_count": 12,
   "metadata": {},
   "outputs": [],
   "source": [
    "import os\n",
    "import openai\n",
    "\n",
    "openai.api_key = os.getenv(\"OPENAI_API_KEY\")"
   ]
  },
  {
   "cell_type": "code",
   "execution_count": 13,
   "metadata": {},
   "outputs": [],
   "source": [
    "\n",
    "\n",
    "class Scene:\n",
    "    def __init__(self, name: str, common_context: str, agent_contexts: dict = {}):\n",
    "        self.name = name \n",
    "        self.common_context = common_context\n",
    "        self.agent_contexts = agent_contexts\n",
    "\n",
    "    def get_scene_name(self):\n",
    "        return self.name\n",
    "\n",
    "    def add_agent_context(self, agent_id, context):\n",
    "        self.agent_contexts[agent_id] = context \n",
    "\n",
    "    def get_common_context(self):\n",
    "        return self.common_context\n",
    "\n",
    "    def get_agent_context(self, agent_id):\n",
    "        return self.agent_contexts.get(agent_id, None)\n",
    "\n",
    "\n",
    "\n",
    "class Session:\n",
    "    def __init__(self, session_id:str, history:list = []):\n",
    "        self.session_id = session_id\n",
    "        self.history = history\n",
    "    \n",
    "\n",
    "    def insert_talk(self, talk:dict):\n",
    "        self.history.append(talk)\n",
    "    \n",
    "    def get_history(self):\n",
    "        return self.history\n",
    "\n",
    "    def get_formatted_history(self):\n",
    "        text = \"\"\n",
    "        for talk in self.history:\n",
    "            text += f\"{talk['agent_name']}: {talk['text']}\\n\"\n",
    "        return text \n",
    "\n",
    "   \n",
    "\n",
    "class Agent:\n",
    "    def __init__(self, \n",
    "                 agent_id: str,\n",
    "                 agent_name: str,\n",
    "                 description: str,\n",
    "                 long_term_memory: dict={}, \n",
    "                 personality: dict={},\n",
    "                 ):\n",
    "        self.agent_id = agent_id\n",
    "        self.agent_name = agent_name\n",
    "        self.description = description\n",
    "        self.long_term_memory = long_term_memory\n",
    "        self.personality = personality\n",
    "        \n",
    "    \n",
    "    def speak(self, text, session: Session):\n",
    "        session.insert_talk({'agent_name': self.agent_name, \n",
    "                             'text': text\n",
    "                             })\n",
    "\n",
    "    def build_prompt_with_context(self, scene: Scene, session: Session):\n",
    "        system_prompt = {\n",
    "            \"role\": \"system\",\n",
    "            \"content\": f\"\"\"You are a person with name {self.agent_name}. \"\"\"\n",
    "        }\n",
    "        user_prompt = {\n",
    "            \"role\": \"user\",\n",
    "            \"content\": f\"\"\"\n",
    "                Your name is {self.agent_name}. \n",
    "                {self.description}\n",
    "                You are in the scene {scene.get_scene_name()}. \n",
    "                {scene.get_common_context()}\n",
    "                {scene.get_agent_context(self.agent_id)}\n",
    "                Below delimted by three equal signs === is the history of the conversion so far. \n",
    "                ===\n",
    "                {session.get_formatted_history()}\n",
    "                ===\n",
    "                Please generate output with 3 fields in json format like. \n",
    "                The 1st field is: do you want to finish the conversation? Please answer \"Yes\" or \"No\".\n",
    "                The 2nd field is: if you want to finish the conversation, is an agreement reached or not? Please answer with \"Yes\" or \"No\". If you don't want finish the conversatioin, please answer blank value ''.\n",
    "                The 3rd field is: what is your reply to conversation?\n",
    "                An example output is provided below: \n",
    "                {{\n",
    "                    \"want_to_finish\": \"No\",\n",
    "                    \"agreement\": \"No\",\n",
    "                    \"reply\": your reply goes here \n",
    "                }}\n",
    "            \"\"\"\n",
    "        }\n",
    "        return [system_prompt,\n",
    "                user_prompt]\n"
   ]
  },
  {
   "cell_type": "code",
   "execution_count": 3,
   "metadata": {},
   "outputs": [],
   "source": [
    "#openai.Model.list()"
   ]
  },
  {
   "cell_type": "code",
   "execution_count": 35,
   "metadata": {},
   "outputs": [],
   "source": [
    "agent_sales = Agent(agent_id=\"sales\",\n",
    "                    agent_name=\"Oliver\",\n",
    "                    description=\"You are a sales man at Bing Lee, which is an Australian chain superstores\",\n",
    "                    \n",
    "                    )\n",
    "agent_buyer = Agent(agent_id=\"buyer\",\n",
    "                    agent_name=\"Charlotte\",\n",
    "                    description=\"You are a new university student. You want to buy a fridge for your dorm.\"\n",
    "                    )\n",
    "scene_binglee = Scene(name=\"binglee\",\n",
    "                      common_context=\"It is the fridge section in Bing Lee Rhodes store. Oliver is the saleman, and Charlotte wants to buy a fridge for her dorm in unversity. Charlotte is looking at LG 420L BOTTOM MOUNT FRIDGE price aud 988.\",\n",
    "                      )\n",
    "scene_binglee.add_agent_context(agent_id=agent_sales.agent_id, context=\"You have the authority to give up to 10% discount, and upto AUd 30 discount on delivery fee. Deliver fee is Aud 40  0-10km, aud 60 10-20km. No deliver for more than 20km.\")\n",
    "scene_binglee.add_agent_context(agent_id=agent_buyer.agent_id, context=\"You have budget aud 1000 to buy a fridge. You plan to bargin for a good price, saving money as much as possible.\")\n",
    "session_binglee = Session(session_id=\"bing_lee\",\n",
    "                          history=[{\"agent_name\": \"Oliver\",\n",
    "                                    \"text\": \"Hi, my name is Oliver. How can I help you?\"\n",
    "                                    },\n",
    "                                   {\"agent_name\": \"Charlotte\",\n",
    "                                    \"text\": \"Hi, I am charlootte. I am looking for a fridge for my dorm. This LG 420L Bottom Mount Fridge looks good. Can you give me a discount?\"\n",
    "                                    }\n",
    "                                   ]\n",
    "                          )\n",
    "\n",
    "\n",
    "records = []\n",
    "records.extend(session_binglee.get_history())"
   ]
  },
  {
   "cell_type": "code",
   "execution_count": 36,
   "metadata": {},
   "outputs": [],
   "source": [
    "import pprint\n",
    "def carry_out_one_turn(scene, session, agent):\n",
    "    messages = agent.build_prompt_with_context(\n",
    "        scene=scene,\n",
    "        session=session\n",
    "    )\n",
    "\n",
    "    display(f\"message length: {len(messages[1]['content'])}\")\n",
    "\n",
    "    response = openai.ChatCompletion.create(\n",
    "                model='gpt-3.5-turbo',\n",
    "                messages=messages,\n",
    "                max_tokens=1000,\n",
    "                temperature=0.2\n",
    "            )\n",
    "    reply = response[\"choices\"][0][\"message\"]['content']\n",
    "    reply_json = json.loads(reply)\n",
    "    pprint.pprint(reply_json)\n",
    "    records.append({\"agent_name\": agent.agent_name,\n",
    "                    \"record\": reply_json})\n",
    "\n",
    "    if \"reply\" in reply_json:\n",
    "        session.insert_talk({\"agent_name\":agent.agent_name,\n",
    "                            \"text\": reply_json.get(\"reply\")\n",
    "                            })\n",
    "    return reply_json"
   ]
  },
  {
   "cell_type": "code",
   "execution_count": null,
   "metadata": {},
   "outputs": [],
   "source": []
  },
  {
   "cell_type": "markdown",
   "metadata": {},
   "source": []
  },
  {
   "cell_type": "code",
   "execution_count": 58,
   "metadata": {},
   "outputs": [
    {
     "name": "stdout",
     "output_type": "stream",
     "text": [
      "{'agreement': 'No',\n",
      " 'reply': \"I'm sorry, Charlotte. Based on the discussions with my manager, we \"\n",
      "          'are unable to offer a higher discount or explore other options to '\n",
      "          'bring the price within your budget. I understand your need for a '\n",
      "          'fridge, and I apologize for any inconvenience caused. If you have '\n",
      "          \"any other questions or if there's anything else I can assist you \"\n",
      "          'with, please let me know.',\n",
      " 'want_to_finish': 'Yes'}\n"
     ]
    }
   ],
   "source": [
    "# Salesman talk\n",
    "import json\n",
    "import pprint\n",
    "scene = scene_binglee\n",
    "session = session_binglee\n",
    "\n",
    "agent = agent_sales\n",
    "\n",
    "carry_out_one_turn(scene=scene, session=session, agent=agent)\n"
   ]
  },
  {
   "cell_type": "markdown",
   "metadata": {},
   "source": []
  },
  {
   "cell_type": "code",
   "execution_count": 60,
   "metadata": {},
   "outputs": [
    {
     "name": "stdout",
     "output_type": "stream",
     "text": [
      "{'agreement': 'No',\n",
      " 'reply': 'Oliver, I understand that you may have limitations on the discounts '\n",
      "          'you can offer. However, since my budget is AUD 1000 and the current '\n",
      "          'price of the fridge is still higher than that, I was wondering if '\n",
      "          \"there's any way we can further negotiate the price or explore other \"\n",
      "          'options to bring it within my budget. I really need a fridge for my '\n",
      "          'dorm, and I would love to purchase it from Bing Lee if we can find '\n",
      "          'a mutually agreeable solution.',\n",
      " 'want_to_finish': 'No'}\n"
     ]
    }
   ],
   "source": [
    "# buyer talk\n",
    "import json\n",
    "import pprint\n",
    "scene = scene_binglee\n",
    "session = session_binglee\n",
    "\n",
    "agent = agent_buyer\n",
    "\n",
    "\n",
    "carry_out_one_turn(scene=scene, session=session, agent=agent)"
   ]
  },
  {
   "cell_type": "code",
   "execution_count": 57,
   "metadata": {},
   "outputs": [
    {
     "data": {
      "text/plain": [
       "4732"
      ]
     },
     "execution_count": 57,
     "metadata": {},
     "output_type": "execute_result"
    }
   ],
   "source": []
  },
  {
   "cell_type": "code",
   "execution_count": null,
   "metadata": {},
   "outputs": [],
   "source": []
  },
  {
   "cell_type": "code",
   "execution_count": 37,
   "metadata": {},
   "outputs": [
    {
     "data": {
      "application/vnd.jupyter.widget-view+json": {
       "model_id": "123b4eba1ea447e4bf69c087ffc2bf28",
       "version_major": 2,
       "version_minor": 0
      },
      "text/plain": [
       "Textarea(value='Oliver: Hi, my name is Oliver. How can I help you?\\n\\nCharlotte: Hi, I am charlootte. I am loo…"
      ]
     },
     "metadata": {},
     "output_type": "display_data"
    },
    {
     "data": {
      "application/vnd.jupyter.widget-view+json": {
       "model_id": "6df352e5423e42e2b70cc8ae18bdb685",
       "version_major": 2,
       "version_minor": 0
      },
      "text/plain": [
       "Button(description='Send', style=ButtonStyle())"
      ]
     },
     "metadata": {},
     "output_type": "display_data"
    },
    {
     "data": {
      "text/plain": [
       "'message length: 1576'"
      ]
     },
     "metadata": {},
     "output_type": "display_data"
    },
    {
     "name": "stdout",
     "output_type": "stream",
     "text": [
      "{'agreement': '',\n",
      " 'reply': \"Hi Oliver, nice to meet you. I'm Charlotte. I'm interested in this \"\n",
      "          'LG 420L Bottom Mount Fridge. Is there any possibility of getting a '\n",
      "          'discount on the price?',\n",
      " 'want_to_finish': ''}\n",
      "{'want_to_finish': '', 'agreement': '', 'reply': \"Hi Oliver, nice to meet you. I'm Charlotte. I'm interested in this LG 420L Bottom Mount Fridge. Is there any possibility of getting a discount on the price?\"}\n"
     ]
    },
    {
     "data": {
      "text/plain": [
       "'message length: 1799'"
      ]
     },
     "metadata": {},
     "output_type": "display_data"
    },
    {
     "name": "stdout",
     "output_type": "stream",
     "text": [
      "{'agreement': '',\n",
      " 'reply': \"Hi Charlotte! Nice to meet you too. I understand that you're \"\n",
      "          'interested in the LG 420L Bottom Mount Fridge. As a salesperson, I '\n",
      "          'have the authority to offer up to a 10% discount on the price. Let '\n",
      "          \"me check if there's any ongoing promotion or special offer for this \"\n",
      "          'fridge. Please give me a moment.',\n",
      " 'want_to_finish': ''}\n",
      "{'want_to_finish': '', 'agreement': '', 'reply': \"Hi Charlotte! Nice to meet you too. I understand that you're interested in the LG 420L Bottom Mount Fridge. As a salesperson, I have the authority to offer up to a 10% discount on the price. Let me check if there's any ongoing promotion or special offer for this fridge. Please give me a moment.\"}\n"
     ]
    },
    {
     "data": {
      "text/plain": [
       "'message length: 2048'"
      ]
     },
     "metadata": {},
     "output_type": "display_data"
    },
    {
     "name": "stdout",
     "output_type": "stream",
     "text": [
      "{'agreement': 'No',\n",
      " 'reply': 'Thank you, Oliver. I appreciate your help. Please let me know if '\n",
      "          'there are any promotions or special offers available for the LG '\n",
      "          \"420L Bottom Mount Fridge. I'm really interested in purchasing it \"\n",
      "          'within my budget of AUD 1000.',\n",
      " 'want_to_finish': 'No'}\n",
      "{'want_to_finish': 'No', 'agreement': 'No', 'reply': \"Thank you, Oliver. I appreciate your help. Please let me know if there are any promotions or special offers available for the LG 420L Bottom Mount Fridge. I'm really interested in purchasing it within my budget of AUD 1000.\"}\n"
     ]
    },
    {
     "data": {
      "text/plain": [
       "'message length: 2338'"
      ]
     },
     "metadata": {},
     "output_type": "display_data"
    },
    {
     "name": "stdout",
     "output_type": "stream",
     "text": [
      "{'agreement': 'No',\n",
      " 'reply': 'Sure, Charlotte. Let me check if there are any ongoing promotions '\n",
      "          \"or special offers for the LG 420L Bottom Mount Fridge. I'll be \"\n",
      "          'right back.',\n",
      " 'want_to_finish': 'No'}\n",
      "{'want_to_finish': 'No', 'agreement': 'No', 'reply': \"Sure, Charlotte. Let me check if there are any ongoing promotions or special offers for the LG 420L Bottom Mount Fridge. I'll be right back.\"}\n"
     ]
    },
    {
     "data": {
      "text/plain": [
       "'message length: 2432'"
      ]
     },
     "metadata": {},
     "output_type": "display_data"
    },
    {
     "name": "stdout",
     "output_type": "stream",
     "text": [
      "{'agreement': 'No',\n",
      " 'reply': 'Thank you, Oliver. I appreciate your help. Please let me know if '\n",
      "          'there are any promotions or special offers available for the LG '\n",
      "          \"420L Bottom Mount Fridge. I'm really interested in purchasing it \"\n",
      "          'within my budget of AUD 1000.',\n",
      " 'want_to_finish': 'No'}\n",
      "{'want_to_finish': 'No', 'agreement': 'No', 'reply': \"Thank you, Oliver. I appreciate your help. Please let me know if there are any promotions or special offers available for the LG 420L Bottom Mount Fridge. I'm really interested in purchasing it within my budget of AUD 1000.\"}\n"
     ]
    },
    {
     "data": {
      "text/plain": [
       "'message length: 2722'"
      ]
     },
     "metadata": {},
     "output_type": "display_data"
    },
    {
     "name": "stdout",
     "output_type": "stream",
     "text": [
      "{'agreement': 'No',\n",
      " 'reply': \"I'm sorry, Charlotte. Unfortunately, there are no ongoing \"\n",
      "          'promotions or special offers for the LG 420L Bottom Mount Fridge at '\n",
      "          'the moment. However, as a salesperson, I can offer you a 5% '\n",
      "          'discount on the price, bringing it down to AUD 938. Additionally, I '\n",
      "          'can waive the delivery fee of AUD 40 for you. Would that work for '\n",
      "          'you?',\n",
      " 'want_to_finish': 'No'}\n",
      "{'want_to_finish': 'No', 'agreement': 'No', 'reply': \"I'm sorry, Charlotte. Unfortunately, there are no ongoing promotions or special offers for the LG 420L Bottom Mount Fridge at the moment. However, as a salesperson, I can offer you a 5% discount on the price, bringing it down to AUD 938. Additionally, I can waive the delivery fee of AUD 40 for you. Would that work for you?\"}\n"
     ]
    },
    {
     "data": {
      "text/plain": [
       "'message length: 3000'"
      ]
     },
     "metadata": {},
     "output_type": "display_data"
    },
    {
     "name": "stdout",
     "output_type": "stream",
     "text": [
      "{'agreement': 'No',\n",
      " 'reply': 'Thank you for checking, Oliver. I appreciate the 5% discount and '\n",
      "          'the waived delivery fee. However, I was hoping to find a fridge '\n",
      "          'within my budget of AUD 1000. Is there any possibility of further '\n",
      "          'negotiation on the price? Maybe we can find a solution that works '\n",
      "          'for both of us?',\n",
      " 'want_to_finish': 'No'}\n",
      "{'want_to_finish': 'No', 'agreement': 'No', 'reply': 'Thank you for checking, Oliver. I appreciate the 5% discount and the waived delivery fee. However, I was hoping to find a fridge within my budget of AUD 1000. Is there any possibility of further negotiation on the price? Maybe we can find a solution that works for both of us?'}\n"
     ]
    },
    {
     "data": {
      "text/plain": [
       "'message length: 3343'"
      ]
     },
     "metadata": {},
     "output_type": "display_data"
    },
    {
     "name": "stdout",
     "output_type": "stream",
     "text": [
      "{'agreement': 'No',\n",
      " 'reply': 'I understand that you have a budget of AUD 1000, Charlotte. Let me '\n",
      "          'see what I can do to accommodate your request. I will check with my '\n",
      "          'manager to see if we can offer any additional discount on the LG '\n",
      "          '420L Bottom Mount Fridge. Please give me a moment.',\n",
      " 'want_to_finish': 'No'}\n",
      "{'want_to_finish': 'No', 'agreement': 'No', 'reply': 'I understand that you have a budget of AUD 1000, Charlotte. Let me see what I can do to accommodate your request. I will check with my manager to see if we can offer any additional discount on the LG 420L Bottom Mount Fridge. Please give me a moment.'}\n"
     ]
    },
    {
     "data": {
      "text/plain": [
       "'message length: 3547'"
      ]
     },
     "metadata": {},
     "output_type": "display_data"
    },
    {
     "name": "stdout",
     "output_type": "stream",
     "text": [
      "{'agreement': 'No',\n",
      " 'reply': 'Thank you, Oliver. I appreciate your efforts in trying to '\n",
      "          \"accommodate my budget. If there's any possibility of further \"\n",
      "          'negotiation on the price, I would be grateful. Is there anything '\n",
      "          'else we can explore to find a solution that works for both of us?',\n",
      " 'want_to_finish': 'No'}\n",
      "{'want_to_finish': 'No', 'agreement': 'No', 'reply': \"Thank you, Oliver. I appreciate your efforts in trying to accommodate my budget. If there's any possibility of further negotiation on the price, I would be grateful. Is there anything else we can explore to find a solution that works for both of us?\"}\n"
     ]
    },
    {
     "data": {
      "text/plain": [
       "'message length: 3863'"
      ]
     },
     "metadata": {},
     "output_type": "display_data"
    },
    {
     "name": "stdout",
     "output_type": "stream",
     "text": [
      "{'agreement': 'No',\n",
      " 'reply': 'I apologize, Charlotte, but after discussing with my manager, we '\n",
      "          'are unable to offer any further discount on the LG 420L Bottom '\n",
      "          'Mount Fridge. However, I can still waive the delivery fee of AUD 40 '\n",
      "          'for you. This would bring the total price to AUD 948. Would you '\n",
      "          'like to proceed with this offer?',\n",
      " 'want_to_finish': 'No'}\n",
      "{'want_to_finish': 'No', 'agreement': 'No', 'reply': 'I apologize, Charlotte, but after discussing with my manager, we are unable to offer any further discount on the LG 420L Bottom Mount Fridge. However, I can still waive the delivery fee of AUD 40 for you. This would bring the total price to AUD 948. Would you like to proceed with this offer?'}\n"
     ]
    },
    {
     "data": {
      "text/plain": [
       "'message length: 4109'"
      ]
     },
     "metadata": {},
     "output_type": "display_data"
    },
    {
     "name": "stdout",
     "output_type": "stream",
     "text": [
      "{'agreement': 'No',\n",
      " 'reply': 'Thank you for your efforts, Oliver. I appreciate the waived '\n",
      "          'delivery fee, but I was really hoping to find a fridge within my '\n",
      "          'budget of AUD 1000. I will continue to look for other options. '\n",
      "          'Thank you for your assistance.',\n",
      " 'want_to_finish': 'Yes'}\n",
      "{'want_to_finish': 'Yes', 'agreement': 'No', 'reply': 'Thank you for your efforts, Oliver. I appreciate the waived delivery fee, but I was really hoping to find a fridge within my budget of AUD 1000. I will continue to look for other options. Thank you for your assistance.'}\n"
     ]
    }
   ],
   "source": [
    "import ipywidgets as widgets\n",
    "from IPython.display import display\n",
    "import json\n",
    "import pprint\n",
    "scene = scene_binglee\n",
    "session = session_binglee\n",
    "\n",
    "\n",
    "last_talk_agent = agent_sales\n",
    "\n",
    "\n",
    "# 1. Textarea widget to display chat history\n",
    "chat_history = widgets.Textarea(\n",
    "    value=\"\",\n",
    "    placeholder=\"Chat history will appear here...\",\n",
    "    description=\"Chat:\",\n",
    "    disabled=True,\n",
    "    layout=widgets.Layout(width=\"500px\", height=\"300px\")\n",
    ")\n",
    "\n",
    "for talk in session.get_history():\n",
    "    chat_history.value += f\"{talk['agent_name']}: {talk['text']}\\n\\n\" \n",
    "\n",
    "\n",
    "# 2. Button widget to send message\n",
    "send_button = widgets.Button(description=\"Send\")\n",
    "\n",
    "# 3. Function to handle button click and update chat\n",
    "def on_send_button_click(button):\n",
    "    global last_talk_agent\n",
    "    \n",
    "    if last_talk_agent == agent_sales:\n",
    "        current_talk_agent = agent_buyer\n",
    "    else:\n",
    "        current_talk_agent = agent_sales\n",
    "\n",
    "    reply_json = carry_out_one_turn(scene=scene, session=session, agent=current_talk_agent)\n",
    "    print(reply_json)\n",
    "    reply = reply_json.get(\"reply\", None)\n",
    "    want_to_finish = reply_json.get(\"want_to_finish\", None)\n",
    "    agreement = reply_json.get(\"agreement\", None)\n",
    "    if reply is None:\n",
    "        print(f\"No reply: f{reply_json}\")\n",
    "    else:\n",
    "        # Append OpenAI's response to chat history\n",
    "        chat_history.value += f\"{current_talk_agent.agent_name}: {reply_json['reply']}\\n\\n\"\n",
    "    if want_to_finish is not None and 'yes' in want_to_finish.lower():\n",
    "        chat_history.value += f\"SYSTEM: {current_talk_agent.agent_name} wants to finish conversation.\\n\\n\"\n",
    "        if agreement is not None:\n",
    "            chat_history.value += f\"SYSTEM: agreement is {'' if 'yes' in agreement.lower() else 'not'} reached.\"\n",
    "    last_talk_agent = current_talk_agent\n",
    "\n",
    "    \n",
    "\n",
    "\n",
    "# Set button click event handler\n",
    "send_button.on_click(on_send_button_click)\n",
    "\n",
    "# Display the widgets\n",
    "display(chat_history, send_button)"
   ]
  },
  {
   "cell_type": "code",
   "execution_count": null,
   "metadata": {},
   "outputs": [],
   "source": [
    "with open(\"./data/binglee_conversation_1.json\", \"w\") as f:\n",
    "    json.dump(records, f, indent=4)"
   ]
  },
  {
   "cell_type": "code",
   "execution_count": 31,
   "metadata": {},
   "outputs": [
    {
     "data": {
      "text/plain": [
       "[{'agent_name': 'Oliver',\n",
       "  'text': 'Hi, my name is Oliver. How can I help you?'},\n",
       " {'agent_name': 'Charlotte',\n",
       "  'text': 'Hi, I like this LG 420L Bottom Mount Fridge. Can you give me a discount?'},\n",
       " {'agent_name': 'Charlotte',\n",
       "  'record': {'want_to_finish': 'No',\n",
       "   'agreement': 'No',\n",
       "   'reply': \"Yes, I really like this fridge and I'm interested in buying it. However, I have a budget of AUD 1000. Is there any way you can offer me a discount to meet my budget?\"}},\n",
       " {'agent_name': 'Charlotte',\n",
       "  'record': {'want_to_finish': 'No',\n",
       "   'agreement': 'No',\n",
       "   'reply': 'Oliver: I understand that you have a budget of AUD 1000. Let me see what I can do for you. Please give me a moment to check if there are any ongoing promotions or discounts available for this fridge.'}},\n",
       " {'agent_name': 'Oliver',\n",
       "  'record': {'want_to_finish': 'No',\n",
       "   'agreement': 'No',\n",
       "   'reply': 'Sure, let me check if there are any discounts or promotions available for the LG 420L Bottom Mount Fridge.'}},\n",
       " {'agent_name': 'Charlotte',\n",
       "  'record': {'want_to_finish': 'No',\n",
       "   'agreement': 'No',\n",
       "   'reply': 'Sure, take your time. I appreciate your help in finding a good deal for me.'}},\n",
       " {'agent_name': 'Charlotte',\n",
       "  'record': {'want_to_finish': 'No',\n",
       "   'agreement': 'No',\n",
       "   'reply': 'Sure, take your time. I appreciate your help in finding a good deal for me.'}},\n",
       " {'agent_name': 'Oliver',\n",
       "  'record': {'want_to_finish': 'No',\n",
       "   'agreement': 'No',\n",
       "   'reply': \"I'm sorry, but the LG 420L Bottom Mount Fridge is already priced at AUD 988, which is the best price we can offer at the moment. However, I can offer you a 5% discount on the delivery fee, bringing it down to AUD 38 for distances within 10km. Would that be acceptable to you?\"}},\n",
       " {'agent_name': 'Charlotte',\n",
       "  'record': {'want_to_finish': 'No',\n",
       "   'agreement': 'No',\n",
       "   'reply': 'Thank you for checking if there are any discounts or promotions available. I understand that the LG 420L Bottom Mount Fridge is already priced at AUD 988, but is there any possibility of further negotiation on the price? I really like this fridge and it would be great if we can find a way to meet my budget of AUD 1000.'}},\n",
       " {'agent_name': 'Oliver',\n",
       "  'record': {'want_to_finish': 'No',\n",
       "   'agreement': 'No',\n",
       "   'reply': \"I understand that the price is slightly above your budget, but unfortunately, I am unable to offer any further discounts on the LG 420L Bottom Mount Fridge. However, I can assure you that it is a high-quality fridge with great features and durability. If you're interested, I can also provide you with more information about our delivery options and warranty coverage.\"}},\n",
       " {'agent_name': 'Charlotte',\n",
       "  'record': {'want_to_finish': 'No',\n",
       "   'agreement': 'No',\n",
       "   'reply': 'Thank you for checking if there are any discounts or promotions available. I understand that the LG 420L Bottom Mount Fridge is already priced at AUD 988, but is there any possibility of further negotiation on the price? I really like this fridge and it would be great if we can find a way to meet my budget of AUD 1000.'}},\n",
       " {'agent_name': 'Oliver',\n",
       "  'record': {'want_to_finish': 'Yes',\n",
       "   'agreement': 'No',\n",
       "   'reply': \"I'm sorry, but I am unable to offer any further discounts on the LG 420L Bottom Mount Fridge. However, if you're interested, I can provide you with more information about our delivery options and warranty coverage.\"}},\n",
       " {'agent_name': 'Charlotte',\n",
       "  'record': {'want_to_finish': 'Yes',\n",
       "   'agreement': 'No',\n",
       "   'reply': 'Thank you for your assistance, Oliver. I appreciate your help in finding a good deal for me. However, I will need some time to think about it and explore other options within my budget. I will get back to you if I decide to make a purchase. Thank you again for your time.'}}]"
      ]
     },
     "execution_count": 31,
     "metadata": {},
     "output_type": "execute_result"
    }
   ],
   "source": [
    "records"
   ]
  },
  {
   "cell_type": "code",
   "execution_count": null,
   "metadata": {},
   "outputs": [],
   "source": []
  }
 ],
 "metadata": {
  "kernelspec": {
   "display_name": ".venv_persona",
   "language": "python",
   "name": "python3"
  },
  "language_info": {
   "codemirror_mode": {
    "name": "ipython",
    "version": 3
   },
   "file_extension": ".py",
   "mimetype": "text/x-python",
   "name": "python",
   "nbconvert_exporter": "python",
   "pygments_lexer": "ipython3",
   "version": "3.10.10"
  },
  "orig_nbformat": 4
 },
 "nbformat": 4,
 "nbformat_minor": 2
}
